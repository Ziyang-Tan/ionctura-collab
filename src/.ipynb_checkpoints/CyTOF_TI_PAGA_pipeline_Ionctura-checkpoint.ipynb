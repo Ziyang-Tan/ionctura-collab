{
 "cells": [
  {
   "cell_type": "code",
   "execution_count": 1,
   "metadata": {},
   "outputs": [],
   "source": [
    "import numpy as np\n",
    "import pandas as pd\n",
    "import matplotlib.pyplot as pl\n",
    "from matplotlib import rcParams\n",
    "import scanpy as sc\n",
    "import os\n",
    "import anndata\n",
    "from sklearn.mixture import GaussianMixture\n",
    "from fcsy import DataFrame\n",
    "import matplotlib\n",
    "from glob import glob\n",
    "matplotlib.rcParams['pdf.fonttype']=42\n",
    "matplotlib.rcParams['ps.fonttype']=42\n",
    "import warnings\n",
    "warnings.filterwarnings(\"ignore\")\n",
    "from igraph import InternalError\n",
    "\n",
    "# scanpy settings\n",
    "sc.settings.verbosity = 0  # verbosity: errors (0), warnings (1), info (2), hints (3)\n",
    "sc.settings.set_figure_params(dpi=150, frameon=False, figsize=(4, 4)) \n",
    "sc._settings.ScanpyConfig.n_jobs=4 # useless"
   ]
  },
  {
   "cell_type": "code",
   "execution_count": 2,
   "metadata": {},
   "outputs": [],
   "source": [
    "# readin the information table\n",
    "info_path = '/Users/tan/ionctura-collab/data/Sample_info_reformat.xlsx'\n",
    "sampleInfo = pd.read_excel(info_path, dtype={'Sample ID':str}, sheet_name=0)"
   ]
  },
  {
   "cell_type": "code",
   "execution_count": 3,
   "metadata": {},
   "outputs": [],
   "source": [
    "selectInfo = sampleInfo[np.logical_and(sampleInfo['Tumor_type'].str.contains('Uveal Melanoma'),\n",
    "                 sampleInfo['timepoint'].isin(['AC1D1', 'AC2D1', 'AC3D1', 'AC4D1', 'AC5D1', 'AC6D1', 'AC7D1']))]"
   ]
  },
  {
   "cell_type": "code",
   "execution_count": null,
   "metadata": {},
   "outputs": [],
   "source": [
    "#check panel\n",
    "i1=116\n",
    "i2=0\n",
    "dataDir = '/Users/tan/cytof_data/*/renamed'\n",
    "data_path1 = glob(dataDir + '/*/' + str(selectInfo['Sample_ID'].iloc[i1]) + '*.fcs')[0]\n",
    "panel1 = DataFrame.from_fcs(data_path1, channel_type='long').columns.sort_values()\n",
    "data_path2 = glob(dataDir + '/*/' + str(selectInfo['Sample_ID'].iloc[i2]) + '*.fcs')[0]\n",
    "panel2 = DataFrame.from_fcs(data_path2, channel_type='long').columns.sort_values()"
   ]
  },
  {
   "cell_type": "code",
   "execution_count": null,
   "metadata": {
    "scrolled": false
   },
   "outputs": [],
   "source": [
    "panel2.intersection(panel1)"
   ]
  },
  {
   "cell_type": "code",
   "execution_count": 4,
   "metadata": {},
   "outputs": [
    {
     "name": "stdout",
     "output_type": "stream",
     "text": [
      "adata not found, load and preprocess raw data...\n",
      "batch correction...\n"
     ]
    },
    {
     "name": "stderr",
     "output_type": "stream",
     "text": [
      "... storing 'level0' as categorical\n",
      "... storing 'level1' as categorical\n",
      "... storing 'level2' as categorical\n",
      "... storing 'level3' as categorical\n",
      "... storing 'Sample ID' as categorical\n",
      "... storing 'timepoint' as categorical\n",
      "... storing 'Subject ID' as categorical\n",
      "... storing 'dose' as categorical\n",
      "... storing 'type' as categorical\n",
      "... storing 'tumor_group' as categorical\n",
      "... storing 'timepoint_dose' as categorical\n",
      "... storing 'batch' as categorical\n"
     ]
    },
    {
     "name": "stdout",
     "output_type": "stream",
     "text": [
      "scaling...\n",
      "write to h5ad file...\n",
      "finished!\n",
      "loading...\n",
      "finished!\n"
     ]
    }
   ],
   "source": [
    "dataDir = '/Users/tan/cytof_data/*/renamed'\n",
    "labelDir = '/Users/tan/cytof_data/*/classifiedV3'\n",
    "nsample = 3000\n",
    "\n",
    "select_columns = ['CD11c', 'CD123', 'CD127', 'CD137', 'CD14', 'CD141', 'CD147',\n",
    "       'CD16', 'CD161', 'CD1c', 'CD20', 'CD22', 'CD24', 'CD25', 'CD26',\n",
    "       'CD27 ', 'CD28', 'CD29', 'CD3', 'CD33', 'CD38', 'CD39', 'CD4', 'CD43',\n",
    "       'CD45', 'CD45RA', 'CD49d', 'CD5', 'CD52', 'CD55', 'CD56', 'CD57',\n",
    "       'CD64', 'CD7', 'CD71', 'CD81', 'CD85j', 'CD8a', 'CD9', 'CD95', 'CD99',\n",
    "       'CX3CR1', 'HLA-DR', 'IgD', 'Siglec-8', 'TCRgd', 'pan-KIR']\n",
    "\n",
    "# readin and merge the file according to \"selectInfo\" as an anndata object\n",
    "all_data_path = '../adata/ion_EXP-21-DG3637_56_UM_before_AC7_V3.h5ad'\n",
    "\n",
    "#for sub_name in drop_dic:\n",
    "#print('currently working on ' + sub_name)\n",
    "if not os.path.exists(all_data_path):\n",
    "    print('adata not found, load and preprocess raw data...')\n",
    "    all_data_list = []\n",
    "    all_label_list = []\n",
    "    for i in range(len(selectInfo)):\n",
    "        label_path = glob(labelDir + '/*/' + str(selectInfo['Sample_ID'].iloc[i]) + '*.csv')[0]\n",
    "        data_path = glob(dataDir + '/*/' + str(selectInfo['Sample_ID'].iloc[i]) + '*.fcs')[0]\n",
    "        labelTmp = pd.read_csv(label_path)\n",
    "        labelTmp['Sample ID'] = np.repeat(str(selectInfo['Sample_ID'].iloc[i]), len(labelTmp.index))\n",
    "        labelTmp['timepoint'] = np.repeat(str(selectInfo['timepoint'].iloc[i]), len(labelTmp.index))\n",
    "        labelTmp['Subject ID'] = np.repeat(str(selectInfo['Subject_ID'].iloc[i]), len(labelTmp.index))\n",
    "        labelTmp['dose'] = np.repeat(str(selectInfo['Cohort_and_dose'].iloc[i]), len(labelTmp.index))\n",
    "        labelTmp['type'] = np.repeat(str(selectInfo['Tumor_type'].iloc[i]), len(labelTmp.index))\n",
    "        labelTmp['tumor_group'] = np.repeat(str(selectInfo['Tumor_Groups'].iloc[i]), len(labelTmp.index))\n",
    "        labelTmp['timepoint_dose'] = np.repeat(selectInfo['timepoint'].iloc[i] + \n",
    "                                                '_' + \n",
    "                                                str(selectInfo['Cohort_and_dose'].iloc[i]), len(labelTmp.index))\n",
    "        labelTmp['batch'] = np.repeat(data_path.split('/')[-4], len(labelTmp.index)) #EXP-XX-XXXXXX\n",
    "        dataTmp = DataFrame.from_fcs(data_path, channel_type='long')\n",
    "        if '4-1BB' in set(dataTmp.columns):\n",
    "            dataTmp.rename(columns={\"4-1BB\": \"CD137\"}, inplace=True)\n",
    "        # filter the cells without a level1 tag\n",
    "        dataTmp = dataTmp[labelTmp['level1']!=' ']\n",
    "        labelTmp = labelTmp[labelTmp['level1']!=' ']\n",
    "        # remove EQBeads and DNA channel # also remove the negative channels\n",
    "        #dataTmp.drop(columns=drop_columns, inplace=True)\n",
    "        dataTmp = dataTmp[select_columns]\n",
    "        dataTmp = np.arcsinh(dataTmp/5)\n",
    "        all_data_list.append(dataTmp)\n",
    "        all_label_list.append(labelTmp)\n",
    "\n",
    "    all_data = pd.concat(all_data_list, ignore_index=True)\n",
    "    all_label = pd.concat(all_label_list, ignore_index=True)\n",
    "    adata = anndata.AnnData(all_data)\n",
    "    adata.obs = all_label\n",
    "    adata.raw = adata\n",
    "    print('batch correction...')\n",
    "    sc.pp.combat(adata, key = 'batch', covariates = ['tumor_group', 'timepoint', 'dose'])\n",
    "    print('scaling...')\n",
    "    sc.pp.scale(adata)\n",
    "    os.makedirs('adata/', exist_ok=True)\n",
    "    print('write to h5ad file...')\n",
    "    adata.write(filename=all_data_path, compression = 'gzip')\n",
    "    adata=None\n",
    "    print('finished!')\n",
    "print('loading...')\n",
    "adata_all = sc.read_h5ad(filename = all_data_path)\n",
    "print('finished!')"
   ]
  },
  {
   "cell_type": "code",
   "execution_count": 5,
   "metadata": {},
   "outputs": [],
   "source": [
    "density_groups = adata_all.obs['timepoint'].cat.categories.tolist()\n",
    "\n",
    "drop_dic = {#'pDC': [], \n",
    "            #'B-cells': ['CD33', 'CD3', 'TCRgd', 'Siglec-8', 'CD14', 'CD141', 'CD4', 'pan-KIR'],\n",
    "            'CD4 T': ['IgD', 'CD1c', 'TCRgd', 'Siglec-8', 'CD20', 'CD14'],\n",
    "            'CD8 T': ['IgD', 'CD11c', 'CD1c', 'TCRgd', 'Siglec-8', 'CD20', 'CD14'],\n",
    "            #'Eosinophils': ['IgD', 'CD57', 'CD25', 'TCRgd', 'CD14', 'pan-KIR'],\n",
    "            #'Monocytes': ['CD57', 'IgD', 'CD25', 'CD20', 'TCRgd', 'CD22', 'CD127', 'pan-KIR'], \n",
    "            #'Neutrophils': ['IgD', 'HLA-DR', 'CD57', 'CD25', 'CD22', 'TCRgd', 'CD123', 'CD161', 'pan-KIR'],\n",
    "            #'NK cells': [],\n",
    "            #'Lin Neg': [],\n",
    "            #'gdT': [], \n",
    "            #'Plasmablasts': [],\n",
    "            #'Basophils': [],\n",
    "            'Tregs':[]\n",
    "           }"
   ]
  },
  {
   "cell_type": "code",
   "execution_count": 6,
   "metadata": {
    "scrolled": false
   },
   "outputs": [
    {
     "name": "stdout",
     "output_type": "stream",
     "text": [
      "subsampling...\n",
      "calculating PAGA...\n",
      "embedding with FA...\n",
      "embedding with density plot...\n",
      "saving results...\n",
      "done!\n",
      "subsampling...\n",
      "calculating PAGA...\n",
      "embedding with FA...\n",
      "embedding with density plot...\n",
      "saving results...\n",
      "done!\n",
      "subsampling...\n",
      "Cannot remove 1 levels from an index with 1 levels: at least one level must be left.\n",
      "calculating PAGA...\n",
      "embedding with FA...\n",
      "embedding with density plot...\n",
      "saving results...\n",
      "done!\n"
     ]
    }
   ],
   "source": [
    "tumor_group='Tumor Group 3'\n",
    "for sub_name in drop_dic:\n",
    "    # subsampling\n",
    "    print('subsampling...')\n",
    "    try:\n",
    "        if sub_name in adata_all.obs['level1'].unique().tolist():\n",
    "            sample_index = adata_all.obs[adata_all.obs['level1']==sub_name].groupby('Sample ID').apply(lambda x: x.sample(n=nsample, random_state=0) if x.shape[0]>=nsample else x).index.droplevel(level=0)\n",
    "        elif sub_name in adata_all.obs['level2'].unique().tolist():\n",
    "            sample_index = adata_all.obs[adata_all.obs['level2']==sub_name].groupby('Sample ID').apply(lambda x: x.sample(n=nsample, random_state=0) if x.shape[0]>=nsample else x).index.droplevel(level=0)\n",
    "        elif sub_name == 'Tregs':\n",
    "            sample_index = adata_all.obs[adata_all.obs['level3'].isin(['CD39 Memory Tregs', 'Memory Tregs', 'Naive Tregs'])].groupby('Sample ID').apply(lambda x: x.sample(n=nsample, random_state=0) if x.shape[0]>=nsample else x).index.droplevel(level=0)        \n",
    "        adata_sample = adata_all[sample_index]\n",
    "    except ValueError as e: \n",
    "        # usually when no file has more cells than nsample and thus no subsampling at all.\n",
    "        # so the results after apply will not be a multiplex index and the droplevel func will fail.\n",
    "        print(e)\n",
    "        if sub_name in adata_all.obs['level1'].unique().tolist():\n",
    "            adata_sample = adata_all[adata_all.obs['level1']==sub_name]\n",
    "        elif sub_name in adata_all.obs['level2'].unique().tolist():\n",
    "            adata_sample = adata_all[adata_all.obs['level2']==sub_name]\n",
    "        elif sub_name == 'Tregs':\n",
    "            adata_sample = adata_all[adata_all.obs['level3'].isin(['CD39 Memory Tregs', 'Memory Tregs', 'Naive Tregs'])]\n",
    "\n",
    "    drop_indicator = np.in1d(adata_sample.var_names, drop_dic[sub_name])\n",
    "    adata = adata_sample[:,~drop_indicator]\n",
    "    #adata = anndata.AnnData(adata_sample.to_df().drop(columns = drop_dic[sub_name]))\n",
    "    #adata.obs = pd.DataFrame(adata_sample.obs)\n",
    "    \n",
    "    adata = adata[adata.obs['tumor_group'] == tumor_group] # merge by tumor group\n",
    "    \n",
    "    # filter out those density_groups that have too few cells\n",
    "    density_groups = adata.obs['timepoint'].value_counts()[adata.obs['timepoint'].value_counts()>20].index.sort_values().tolist()\n",
    "    adata = adata[adata.obs['timepoint'].isin(density_groups)]\n",
    "\n",
    "    # save figures to a sub dir\n",
    "    figpath='../figures_UM_before_AC7/' + tumor_group + '/' + sub_name + '/'\n",
    "    h5path='../PAGA_result_data_UM_before_AC7/'\n",
    "    os.makedirs(figpath, exist_ok=True)\n",
    "    os.makedirs(h5path, exist_ok=True)\n",
    "    sc.settings.figdir=figpath\n",
    "\n",
    "    print('calculating PAGA...')\n",
    "    #n_comps = min([adata.n_obs, adata.n_vars, 21])-1\n",
    "    #sc.tl.pca(adata, svd_solver='arpack', n_comps=n_comps)\n",
    "    sc.pp.neighbors(adata, n_neighbors=10)\n",
    "\n",
    "    # paga process\n",
    "    sc.tl.leiden(adata, resolution=0.3) \n",
    "\n",
    "    sc.tl.paga(adata, groups='leiden')\n",
    "    if adata.obs['leiden'].nunique() < 2: # no paga can be done with only 1 group\n",
    "        sc.tl.draw_graph(adata)\n",
    "        sc.pl.draw_graph(adata, color=['timepoint', 'dose', 'leiden', 'batch', 'Subject ID', 'type'], show=False,\n",
    "                     save='_' + sub_name + '.pdf')\n",
    "        continue\n",
    "    try:\n",
    "        sc.pl.paga(adata, color=['leiden'], threshold=0.1, show=False, \n",
    "                   save='_' + sub_name + '.pdf')\n",
    "    except InternalError as e: # maybe there're too little cells\n",
    "        print(e)\n",
    "        sc.pl.paga(adata, color=['leiden'], show=False, \n",
    "                   save='_' + sub_name + '.pdf')        \n",
    "\n",
    "    print('embedding with FA...')\n",
    "    sc.tl.draw_graph(adata, init_pos='paga')\n",
    "\n",
    "    sc.pl.draw_graph(adata, color=['timepoint', 'dose', 'leiden', 'batch', 'Subject ID', 'type'], show=False,\n",
    "                     save='_' + sub_name + '.pdf')\n",
    "\n",
    "    sc.pl.draw_graph(adata, color=adata.var.index.values, show=False,\n",
    "                     save='_' + sub_name + '_markers.pdf')\n",
    "\n",
    "    print('embedding with density plot...')\n",
    "    \n",
    "\n",
    "    sc.tl.embedding_density(adata, basis='draw_graph_fa', groupby='timepoint')\n",
    "    sc.pl.embedding_density(adata, basis='draw_graph_fa', key='draw_graph_fa_density_timepoint', \n",
    "                            group=density_groups, show=False, \n",
    "                            save='_' + sub_name + '_timepoint_density.pdf')\n",
    "\n",
    "    print('saving results...')\n",
    "    adata.write(filename=os.path.join(h5path, 'EXP-21-DG3637_56_' + sub_name + '_sample3000.h5ad'), compression = 'gzip')\n",
    "    adata.X = adata.raw.X[:,~drop_indicator]\n",
    "    adata.write(filename=os.path.join(h5path, 'EXP-21-DG3637_56_' + sub_name + '_sample3000_raw.h5ad'), compression = 'gzip')\n",
    "    print('done!')"
   ]
  },
  {
   "cell_type": "code",
   "execution_count": null,
   "metadata": {},
   "outputs": [],
   "source": [
    "sc.tl.draw_graph(adata)\n",
    "sc.pl.draw_graph(adata, color=['timepoint', 'dose', 'leiden', 'batch', 'Subject ID', 'type'], show=False,\n",
    "                     save='_' + sub_name + '.pdf')"
   ]
  },
  {
   "cell_type": "code",
   "execution_count": null,
   "metadata": {},
   "outputs": [],
   "source": [
    "adata.obs['timepoint'].cat.categories.tolist()[0:11]"
   ]
  },
  {
   "cell_type": "code",
   "execution_count": null,
   "metadata": {},
   "outputs": [],
   "source": []
  }
 ],
 "metadata": {
  "kernelspec": {
   "display_name": "Python 3",
   "language": "python",
   "name": "python3"
  },
  "language_info": {
   "codemirror_mode": {
    "name": "ipython",
    "version": 3
   },
   "file_extension": ".py",
   "mimetype": "text/x-python",
   "name": "python",
   "nbconvert_exporter": "python",
   "pygments_lexer": "ipython3",
   "version": "3.7.7"
  }
 },
 "nbformat": 4,
 "nbformat_minor": 2
}
